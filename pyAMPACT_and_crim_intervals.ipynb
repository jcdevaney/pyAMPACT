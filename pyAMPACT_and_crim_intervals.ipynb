{
 "cells": [
  {
   "cell_type": "markdown",
   "id": "73f2e76a-6c49-4510-ae5b-349e44aa5ba6",
   "metadata": {},
   "source": [
    "<h1 style='text-align: center;'>Combining pyAMPACT & CRIM Intervals</h1>\n",
    "<h2 style='text-align: center;'>Demo of using pyAMPACT audio analysis with CRIM Intervals Renaissance cadence analysis</h2>\n",
    "<a href='https://colab.research.google.com/github/jcdevaney/pyAMPACT/blob/master/File_Converter.ipynb'><h2 style='text-align: center;'>Link to interactive colab file conversion tool</h2></a>"
   ]
  },
  {
   "cell_type": "code",
   "execution_count": null,
   "id": "d98b2f8e-41b3-4ca9-be45-fdd4d1432290",
   "metadata": {},
   "outputs": [],
   "source": [
    "git clone https://github.com/jcdevaney/pyAMPACT.git\n",
    "%cd /content/pyAMPACT/\n",
    "import pandas as pd\n",
    "from symbolic import *\n",
    "import crim-intervals"
   ]
  }
 ],
 "metadata": {
  "kernelspec": {
   "display_name": "Python 3 (ipykernel)",
   "language": "python",
   "name": "python3"
  },
  "language_info": {
   "codemirror_mode": {
    "name": "ipython",
    "version": 3
   },
   "file_extension": ".py",
   "mimetype": "text/x-python",
   "name": "python",
   "nbconvert_exporter": "python",
   "pygments_lexer": "ipython3",
   "version": "3.10.11"
  }
 },
 "nbformat": 4,
 "nbformat_minor": 5
}
