{
 "cells": [
  {
   "cell_type": "markdown",
   "id": "264db15b-dc7b-4bcc-8d94-bb75c9314a7c",
   "metadata": {},
   "source": [
    "<a href=\"https://colab.research.google.com/github/jcdevaney/pyAMPACT/blob/master/pyAMPACT_and_crim_intervals.ipynb\" target=\"_parent\"><img src=\"https://colab.research.google.com/assets/colab-badge.svg\" alt=\"Open In Colab\"/></a>"
   ]
  },
  {
   "cell_type": "markdown",
   "id": "73f2e76a-6c49-4510-ae5b-349e44aa5ba6",
   "metadata": {},
   "source": [
    "<h1 style='text-align: center;'>Combining pyAMPACT & CRIM Intervals</h1>\n",
    "<h2 style='text-align: center;'>Demo of using pyAMPACT audio analysis with CRIM Intervals Renaissance cadence analysis</h2>\n",
    "<h2>Import the tools:</h2>"
   ]
  },
  {
   "cell_type": "code",
   "execution_count": null,
   "id": "d98b2f8e-41b3-4ca9-be45-fdd4d1432290",
   "metadata": {},
   "outputs": [],
   "source": [
    "!git clone https://github.com/HCDigitalScholarship/intervals.git\n",
    "%cd /content/intervals/\n",
    "from IPython.utils import io\n",
    "print('Importing libraries...')\n",
    "with io.capture_output() as captured:\n",
    "    !pip install --upgrade pandas\n",
    "    !pip install -r requirements.txt\n",
    "    import crim_intervals as crim\n",
    "\n",
    "%cd ..\n",
    "!git clone https://github.com/jcdevaney/pyAMPACT.git\n",
    "%cd /content/pyAMPACT/\n",
    "from pyampact import *"
   ]
  },
  {
   "cell_type": "markdown",
   "id": "ce85a2b1-ad7f-4feb-92ae-f3fc5c024b1f",
   "metadata": {},
   "source": [
    "<h2>Import a piece via pyAMPACT and CRIM</h2>\n",
    "\n",
    "For some reason CRIM isn't able to import these local files in this setup, so import via url for CRIM. Url importing also works for pyAMPACT if you want to do them the same way."
   ]
  },
  {
   "cell_type": "code",
   "execution_count": null,
   "id": "fc75c633-7eba-4bea-94fe-554379824756",
   "metadata": {},
   "outputs": [],
   "source": [
    "pyamp_piece = Score('test_files/O_virgo_miserere_mei.krn')\n",
    "crim_piece = crim.main_objs.Crimport('https://raw.githubusercontent.com/jcdevaney/pyAMPACT/master/test_files/O_virgo_miserere_mei.krn')"
   ]
  },
  {
   "cell_type": "markdown",
   "id": "687810f9-b255-47a4-83fe-b917083b6463",
   "metadata": {},
   "source": [
    "<h2>Do analysis in CRIM and use it in pyAMPACT</h2>\n",
    "\n",
    "Here we're going to use CRIM's Cadential Voice Function analysis, `.cvfs()`, and then convert this piece into an MEI file that contains these CVF annotations using pyAMPACT. Since CRIM and pyAMPACT use a similar format for a lot of their dataframes, you can just treat CRIM's CVF dataframe as if it's a pyAMPACT dataframe without any special treatment. What is needed is for the dataframe's index to be time-aligned and for the columnar index to be voice names. In the couple of cases, CRIM dataframes differ from this structure (for example `.cadences()` has different columns and `.presentationTypes()` has a different index and columns). You can still work with this CRIM data in pyAMPACT in these cases, they just require some basic restructuring of the CRIM dataframes first.\n",
    "<p>Once you run the next cell, an MEI file call \"pyAMPACT-CRIM_test.mei.xml\" will appear in the directory on the left at `pyAMPACT/output_files/pyAMPACT-CRIM_test.mei.xml`. It will be too big to view in colab, but if you double-click it you can download it.</p>"
   ]
  },
  {
   "cell_type": "code",
   "execution_count": 1,
   "id": "0a9ae3b4-5511-4668-8ba3-fd691a0c59f3",
   "metadata": {},
   "outputs": [
    {
     "ename": "NameError",
     "evalue": "name 'crim_piece' is not defined",
     "output_type": "error",
     "traceback": [
      "\u001b[0;31m---------------------------------------------------------------------------\u001b[0m",
      "\u001b[0;31mNameError\u001b[0m                                 Traceback (most recent call last)",
      "\u001b[0;32m/var/folders/kv/c79f9q3n4n15p8dtz18tc0ym0000gn/T/ipykernel_78912/3426423153.py\u001b[0m in \u001b[0;36m<cell line: 1>\u001b[0;34m()\u001b[0m\n\u001b[0;32m----> 1\u001b[0;31m \u001b[0mcvf_table\u001b[0m \u001b[0;34m=\u001b[0m \u001b[0mcrim_piece\u001b[0m\u001b[0;34m.\u001b[0m\u001b[0mcvfs\u001b[0m\u001b[0;34m(\u001b[0m\u001b[0;34m)\u001b[0m\u001b[0;34m\u001b[0m\u001b[0;34m\u001b[0m\u001b[0m\n\u001b[0m\u001b[1;32m      2\u001b[0m \u001b[0mpyamp_piece\u001b[0m\u001b[0;34m.\u001b[0m\u001b[0mtoMEI\u001b[0m\u001b[0;34m(\u001b[0m\u001b[0;34m'pyAMPACT-CRIM_test'\u001b[0m\u001b[0;34m,\u001b[0m \u001b[0;34m' '\u001b[0m\u001b[0;34m,\u001b[0m \u001b[0mdfs\u001b[0m\u001b[0;34m=\u001b[0m\u001b[0;34m{\u001b[0m\u001b[0;34m'CVF'\u001b[0m\u001b[0;34m:\u001b[0m \u001b[0mcvf_table\u001b[0m\u001b[0;34m}\u001b[0m\u001b[0;34m,\u001b[0m \u001b[0manalysis_tag\u001b[0m\u001b[0;34m=\u001b[0m\u001b[0;34m'harm'\u001b[0m\u001b[0;34m)\u001b[0m\u001b[0;34m\u001b[0m\u001b[0;34m\u001b[0m\u001b[0m\n",
      "\u001b[0;31mNameError\u001b[0m: name 'crim_piece' is not defined"
     ]
    }
   ],
   "source": [
    "cvf_table = crim_piece.cvfs()\n",
    "pyamp_piece.toMEI('pyAMPACT-CRIM_test', ' ', dfs={'CVF': cvf_table}, analysis_tag='harm')"
   ]
  },
  {
   "cell_type": "markdown",
   "id": "d948ca55-2723-4311-98d9-2065cd408ba3",
   "metadata": {},
   "source": [
    "<h2>Create a link to an annotated excerpt</h2>\n",
    "\n",
    "pyAMPACT can also create links to short excerpts of pieces, with or without extra data. We do this in the .krn format for its character economy and extensibility, via the (Verovio Humdrum Viewer)[https://verovio.humdrum.org]. Let's look at the cadential voice functions used in the last cadence of this piece which is in the last two measures. Soon we'll have the ability to include annotations in .krn output too, and then these will optionally include the annotations. But for now, let's just look at the last two measures."
   ]
  },
  {
   "cell_type": "code",
   "execution_count": 2,
   "id": "00ea904a-eafa-431b-8575-584375c9b011",
   "metadata": {},
   "outputs": [
    {
     "ename": "NameError",
     "evalue": "name 'pyampact' is not defined",
     "output_type": "error",
     "traceback": [
      "\u001b[0;31m---------------------------------------------------------------------------\u001b[0m",
      "\u001b[0;31mNameError\u001b[0m                                 Traceback (most recent call last)",
      "\u001b[0;32m/var/folders/kv/c79f9q3n4n15p8dtz18tc0ym0000gn/T/ipykernel_78912/3800069581.py\u001b[0m in \u001b[0;36m<cell line: 1>\u001b[0;34m()\u001b[0m\n\u001b[0;32m----> 1\u001b[0;31m \u001b[0mpyampact\u001b[0m\u001b[0;34m.\u001b[0m\u001b[0m_duration2Kern\u001b[0m\u001b[0;34m[\u001b[0m\u001b[0;36m2.66667\u001b[0m\u001b[0;34m]\u001b[0m \u001b[0;34m=\u001b[0m \u001b[0;34m'3%2'\u001b[0m\u001b[0;34m\u001b[0m\u001b[0;34m\u001b[0m\u001b[0m\n\u001b[0m\u001b[1;32m      2\u001b[0m \u001b[0mpyamp_piece\u001b[0m\u001b[0;34m.\u001b[0m\u001b[0mshow\u001b[0m\u001b[0;34m(\u001b[0m\u001b[0mstart\u001b[0m\u001b[0;34m=\u001b[0m\u001b[0;36m45\u001b[0m\u001b[0;34m)\u001b[0m\u001b[0;34m\u001b[0m\u001b[0;34m\u001b[0m\u001b[0m\n",
      "\u001b[0;31mNameError\u001b[0m: name 'pyampact' is not defined"
     ]
    }
   ],
   "source": [
    "pyamp_piece.show(start=45)"
   ]
  }
 ],
 "metadata": {
  "kernelspec": {
   "display_name": "Python 3 (ipykernel)",
   "language": "python",
   "name": "python3"
  },
  "language_info": {
   "codemirror_mode": {
    "name": "ipython",
    "version": 3
   },
   "file_extension": ".py",
   "mimetype": "text/x-python",
   "name": "python",
   "nbconvert_exporter": "python",
   "pygments_lexer": "ipython3",
   "version": "3.10.11"
  }
 },
 "nbformat": 4,
 "nbformat_minor": 5
}
