{
 "cells": [
  {
   "cell_type": "markdown",
   "id": "2db7178d",
   "metadata": {
    "colab_type": "text",
    "id": "view-in-github"
   },
   "source": [
    "<a href=\"https://colab.research.google.com/github/jcdevaney/pyAMPACT/blob/master/File_Converter.ipynb\" target=\"_parent\"><img src=\"https://colab.research.google.com/assets/colab-badge.svg\" alt=\"Open In Colab\"/></a>"
   ]
  },
  {
   "cell_type": "markdown",
   "id": "f8471506-8929-470b-866f-c3e1e65482c2",
   "metadata": {
    "id": "f8471506-8929-470b-866f-c3e1e65482c2"
   },
   "source": [
    "<h1 style='text-align: center;'>File Converter</h1>\n",
    "<h2 style='text-align: center;'>Convert a score in symbolic notation to an MEI or kern score</h2>"
   ]
  },
  {
   "cell_type": "markdown",
   "id": "e715140d-e8a6-4a4d-baf4-071fbf1501c8",
   "metadata": {
    "id": "e715140d-e8a6-4a4d-baf4-071fbf1501c8"
   },
   "source": [
    "`1.` Click on the folder button on the left ⬅️ 📁\\\n",
    "`2.` Add the symbolic notation files (no images or pdfs) you want to convert to the `pyAMPACT/added_files` folder then run the next cell"
   ]
  },
  {
   "cell_type": "code",
   "execution_count": null,
   "id": "f25e5c4c-69e1-4d32-b89e-958c61b96eff",
   "metadata": {
    "id": "f25e5c4c-69e1-4d32-b89e-958c61b96eff",
    "outputId": "49cb5ac6-707c-47da-d676-29b9592ded1a"
   },
   "outputs": [
    {
     "name": "stdout",
     "output_type": "stream",
     "text": [
      "fatal: destination path 'pyAMPACT' already exists and is not an empty directory.\n",
      "[Errno 2] No such file or directory: '/content/pyAMPACT/'\n",
      "/Users/amor/Desktop/Code/CUNY/pyAMPACT\n",
      "\n",
      "*** No valid file types detected. Please add the symbolic music notation \n",
      "files you want to convert to kern or MEI to the added_files folder.\n"
     ]
    }
   ],
   "source": [
    "!git clone https://github.com/jcdevaney/pyAMPACT.git\n",
    "%cd /content/pyAMPACT/\n",
    "from IPython.utils import io\n",
    "print('Updating pandas...')\n",
    "with io.capture_output() as captured:\n",
    "    !pip install --upgrade pandas\n",
    "from symbolic import *\n",
    "contents = [file for file in os.listdir('./added_files') if file != 'README.txt'\n",
    "            and file.endswith(('krn', 'xml', 'mei', 'mxl', 'musicxml', 'mid', 'midi', 'abc', 'txt'))]\n",
    "if not len(contents):\n",
    "    print('\\n*** No valid file types detected. Please add the symbolic music notation \\n\\\n",
    "files you want to convert to kern or MEI to the added_files folder.')\n",
    "else:\n",
    "    print('Found these files:', *contents, sep='\\n')"
   ]
  },
  {
   "cell_type": "markdown",
   "id": "d0a2ef71-9945-491d-987e-e76c0d6645d4",
   "metadata": {
    "id": "d0a2ef71-9945-491d-987e-e76c0d6645d4"
   },
   "source": [
    "`3a.` Run the next cell to convert the file or files to kern:"
   ]
  },
  {
   "cell_type": "code",
   "execution_count": null,
   "id": "a73c926a-075b-4692-8eb9-dde4d11b9938",
   "metadata": {
    "id": "a73c926a-075b-4692-8eb9-dde4d11b9938"
   },
   "outputs": [],
   "source": [
    "contents = [file for file in os.listdir('./added_files') if file != 'README.txt'\n",
    "            and file.endswith(('krn', 'xml', 'mei', 'mxl', 'musicxml', 'mid', 'midi', 'abc', 'txt'))]\n",
    "for file in contents:\n",
    "    score = Score(f'./added_files/{file}')\n",
    "    score.toKern(file.rsplit('.', 1)[0])"
   ]
  },
  {
   "cell_type": "markdown",
   "id": "c8da2a14-1e53-4b0f-9f42-633d46af1856",
   "metadata": {
    "id": "c8da2a14-1e53-4b0f-9f42-633d46af1856"
   },
   "source": [
    "`3b.` Run the next cell to convert the files to MEI"
   ]
  },
  {
   "cell_type": "code",
   "execution_count": null,
   "id": "e0ac8d7e-a737-42d4-a9f9-78760b6fd801",
   "metadata": {
    "id": "e0ac8d7e-a737-42d4-a9f9-78760b6fd801"
   },
   "outputs": [],
   "source": [
    "contents = [file for file in os.listdir('./added_files') if file != 'README.txt'\n",
    "            and file.endswith(('krn', 'xml', 'mei', 'mxl', 'musicxml', 'mid', 'midi', 'abc', 'txt'))]\n",
    "for file in contents:\n",
    "    score = Score(f'./added_files/{file}')\n",
    "    score.toMEI(file.rsplit('.', 1)[0])"
   ]
  },
  {
   "cell_type": "markdown",
   "id": "df845024-bd1c-4ec2-bf9e-f3d797230d46",
   "metadata": {
    "id": "df845024-bd1c-4ec2-bf9e-f3d797230d46"
   },
   "source": [
    "`4` Download your converted files from the `pyAMPACT/output_files` folder on the left ⬅️ 📁\\\n",
    "They will have the same filename but with a `.krn` or `.mei.xml` extension."
   ]
  }
 ],
 "metadata": {
  "colab": {
   "include_colab_link": true,
   "provenance": []
  },
  "kernelspec": {
   "display_name": "Python 3 (ipykernel)",
   "language": "python",
   "name": "python3"
  },
  "language_info": {
   "codemirror_mode": {
    "name": "ipython",
    "version": 3
   },
   "file_extension": ".py",
   "mimetype": "text/x-python",
   "name": "python",
   "nbconvert_exporter": "python",
   "pygments_lexer": "ipython3",
   "version": "3.10.11"
  }
 },
 "nbformat": 4,
 "nbformat_minor": 5
}
