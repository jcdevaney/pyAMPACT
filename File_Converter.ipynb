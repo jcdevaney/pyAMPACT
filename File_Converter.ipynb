{
 "cells": [
  {
   "cell_type": "markdown",
   "id": "f8471506-8929-470b-866f-c3e1e65482c2",
   "metadata": {},
   "source": [
    "**File Converter**\n",
    "*Converter a score in symbolic notation to an MEI or kern score*\n",
    "\n",
    "1. Click on the folder button on the left 📁\n",
    "2. Add the symbolic notation files (no images or pdfs) you want to convert to the added_files folder\n",
    "3. Choose which file type to convert to, kern or MEI\n",
    "4. Download the converted files from the output_files folder"
   ]
  },
  {
   "cell_type": "code",
   "execution_count": null,
   "id": "f25e5c4c-69e1-4d32-b89e-958c61b96eff",
   "metadata": {},
   "outputs": [],
   "source": [
    "!git clone https://github.com/jcdevaney/pyAMPACT.git\n",
    "%cd /content/pyAMPACT/\n",
    "import pandas as pd\n",
    "from symbolic import *\n",
    "contents = os.listdir(directory)\n",
    "print(contents)"
   ]
  }
 ],
 "metadata": {
  "kernelspec": {
   "display_name": "Python 3 (ipykernel)",
   "language": "python",
   "name": "python3"
  },
  "language_info": {
   "codemirror_mode": {
    "name": "ipython",
    "version": 3
   },
   "file_extension": ".py",
   "mimetype": "text/x-python",
   "name": "python",
   "nbconvert_exporter": "python",
   "pygments_lexer": "ipython3",
   "version": "3.10.11"
  }
 },
 "nbformat": 4,
 "nbformat_minor": 5
}
